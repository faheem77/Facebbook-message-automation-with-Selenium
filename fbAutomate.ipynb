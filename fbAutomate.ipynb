{
 "cells": [
  {
   "cell_type": "code",
   "execution_count": null,
   "metadata": {},
   "outputs": [],
   "source": [
    "from selenium import webdriver\n",
    "import time\n",
    "driver = webdriver.Chrome(\"D:/chromedriver.exe\")\n",
    "driver.get(\"https://web.facebook.com/messages/t/1008892903/\")\n",
    "email= \"email\"\n",
    "password = \"password\"\n",
    "\n",
    "email_input = driver.find_element_by_id(\"email\")\n",
    "password_input = driver.find_element_by_id(\"pass\")\n",
    "login_button =driver.find_element_by_id(\"loginbutton\")\n",
    "\n",
    "email_input.send_keys(email)\n",
    "password_input.send_keys(password)\n",
    "login_button.click()\n",
    "time.sleep(10)\n",
    "contacts = [\"\"] # contact name to be search and send message\n",
    "search_input= driver.find_element_by_xpath(\"/html/body/div[1]/div/div[1]/div/div[3]/div/div/div[1]/div[1]/div[1]/div/div/div/div[2]/div/div/div/div/label/input\")\n",
    "search_input.send_keys(contacts[0])\n",
    "\n",
    "time.sleep(10)\n",
    "first_account = driver.find_element_by_xpath('/html/body/div[1]/div/div[1]/div/div[3]/div/div/div[2]/div/div/div[1]/div[1]/div/div/div[1]/ul/li[1]/ul/li[2]/div/a/div/div[2]/div/div/span/span/span')\n",
    "first_account.click()\n",
    "message = \"hello from selenium :D\"\n",
    "message_text_box = driver.find_element_by_css_selector('._1mj')\n",
    "message_text_box.send_keys(message)\n",
    "time.sleep(1)\n",
    "send_button= driver.find_element_by_xpath('/html/body/div[1]/div/div[1]/div/div[3]/div/div/div[1]/div[1]/div[2]/div/div/div/div/div/div[1]/div[2]/div/div/div/div[2]/div/form/div/div[3]/span[2]/div')\n",
    "send_button.send_keys(message)"
   ]
  },
  {
   "cell_type": "code",
   "execution_count": null,
   "metadata": {},
   "outputs": [],
   "source": []
  }
 ],
 "metadata": {
  "kernelspec": {
   "display_name": "Python 3",
   "language": "python",
   "name": "python3"
  },
  "language_info": {
   "codemirror_mode": {
    "name": "ipython",
    "version": 3
   },
   "file_extension": ".py",
   "mimetype": "text/x-python",
   "name": "python",
   "nbconvert_exporter": "python",
   "pygments_lexer": "ipython3",
   "version": "3.7.3"
  }
 },
 "nbformat": 4,
 "nbformat_minor": 2
}
